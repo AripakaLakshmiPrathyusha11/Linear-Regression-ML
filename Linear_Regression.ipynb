{
 "cells": [
  {
   "cell_type": "code",
   "execution_count": 137,
   "id": "dc028a7d",
   "metadata": {},
   "outputs": [],
   "source": [
    "#import libraries\n",
    "import pandas as pd\n",
    "import numpy as np\n",
    "import seaborn as sns\n",
    "import matplotlib.pyplot as plt\n",
    "import warnings\n",
    "warnings.filterwarnings(\"ignore\")"
   ]
  },
  {
   "cell_type": "code",
   "execution_count": 138,
   "id": "e71a779a",
   "metadata": {},
   "outputs": [],
   "source": [
    "#Load dataset\n",
    "df = pd.read_csv(r\"C:\\Users\\91932\\Downloads\\dataframe_.csv\")"
   ]
  },
  {
   "cell_type": "code",
   "execution_count": 139,
   "id": "e8c808c6",
   "metadata": {
    "scrolled": true
   },
   "outputs": [
    {
     "data": {
      "text/html": [
       "<div>\n",
       "<style scoped>\n",
       "    .dataframe tbody tr th:only-of-type {\n",
       "        vertical-align: middle;\n",
       "    }\n",
       "\n",
       "    .dataframe tbody tr th {\n",
       "        vertical-align: top;\n",
       "    }\n",
       "\n",
       "    .dataframe thead th {\n",
       "        text-align: right;\n",
       "    }\n",
       "</style>\n",
       "<table border=\"1\" class=\"dataframe\">\n",
       "  <thead>\n",
       "    <tr style=\"text-align: right;\">\n",
       "      <th></th>\n",
       "      <th>input</th>\n",
       "      <th>output</th>\n",
       "    </tr>\n",
       "  </thead>\n",
       "  <tbody>\n",
       "    <tr>\n",
       "      <th>0</th>\n",
       "      <td>-122.74</td>\n",
       "      <td>-130.57</td>\n",
       "    </tr>\n",
       "    <tr>\n",
       "      <th>1</th>\n",
       "      <td>-121.53</td>\n",
       "      <td>-129.94</td>\n",
       "    </tr>\n",
       "    <tr>\n",
       "      <th>2</th>\n",
       "      <td>-134.92</td>\n",
       "      <td>-130.14</td>\n",
       "    </tr>\n",
       "    <tr>\n",
       "      <th>3</th>\n",
       "      <td>-120.61</td>\n",
       "      <td>-125.76</td>\n",
       "    </tr>\n",
       "    <tr>\n",
       "      <th>4</th>\n",
       "      <td>-129.89</td>\n",
       "      <td>-112.79</td>\n",
       "    </tr>\n",
       "  </tbody>\n",
       "</table>\n",
       "</div>"
      ],
      "text/plain": [
       "    input  output\n",
       "0 -122.74 -130.57\n",
       "1 -121.53 -129.94\n",
       "2 -134.92 -130.14\n",
       "3 -120.61 -125.76\n",
       "4 -129.89 -112.79"
      ]
     },
     "execution_count": 139,
     "metadata": {},
     "output_type": "execute_result"
    }
   ],
   "source": [
    "\n",
    "df.head()"
   ]
  },
  {
   "cell_type": "code",
   "execution_count": 140,
   "id": "f2f80fae",
   "metadata": {
    "scrolled": true
   },
   "outputs": [
    {
     "data": {
      "text/html": [
       "<div>\n",
       "<style scoped>\n",
       "    .dataframe tbody tr th:only-of-type {\n",
       "        vertical-align: middle;\n",
       "    }\n",
       "\n",
       "    .dataframe tbody tr th {\n",
       "        vertical-align: top;\n",
       "    }\n",
       "\n",
       "    .dataframe thead th {\n",
       "        text-align: right;\n",
       "    }\n",
       "</style>\n",
       "<table border=\"1\" class=\"dataframe\">\n",
       "  <thead>\n",
       "    <tr style=\"text-align: right;\">\n",
       "      <th></th>\n",
       "      <th>input</th>\n",
       "      <th>output</th>\n",
       "    </tr>\n",
       "  </thead>\n",
       "  <tbody>\n",
       "    <tr>\n",
       "      <th>count</th>\n",
       "      <td>1696.00</td>\n",
       "      <td>1696.00</td>\n",
       "    </tr>\n",
       "    <tr>\n",
       "      <th>mean</th>\n",
       "      <td>1.16</td>\n",
       "      <td>-34.09</td>\n",
       "    </tr>\n",
       "    <tr>\n",
       "      <th>std</th>\n",
       "      <td>79.01</td>\n",
       "      <td>65.77</td>\n",
       "    </tr>\n",
       "    <tr>\n",
       "      <th>min</th>\n",
       "      <td>-134.96</td>\n",
       "      <td>-132.42</td>\n",
       "    </tr>\n",
       "    <tr>\n",
       "      <th>25%</th>\n",
       "      <td>-63.39</td>\n",
       "      <td>-80.03</td>\n",
       "    </tr>\n",
       "    <tr>\n",
       "      <th>50%</th>\n",
       "      <td>10.20</td>\n",
       "      <td>-50.47</td>\n",
       "    </tr>\n",
       "    <tr>\n",
       "      <th>75%</th>\n",
       "      <td>70.26</td>\n",
       "      <td>-11.00</td>\n",
       "    </tr>\n",
       "    <tr>\n",
       "      <th>max</th>\n",
       "      <td>134.61</td>\n",
       "      <td>134.43</td>\n",
       "    </tr>\n",
       "  </tbody>\n",
       "</table>\n",
       "</div>"
      ],
      "text/plain": [
       "        input  output\n",
       "count 1696.00 1696.00\n",
       "mean     1.16  -34.09\n",
       "std     79.01   65.77\n",
       "min   -134.96 -132.42\n",
       "25%    -63.39  -80.03\n",
       "50%     10.20  -50.47\n",
       "75%     70.26  -11.00\n",
       "max    134.61  134.43"
      ]
     },
     "execution_count": 140,
     "metadata": {},
     "output_type": "execute_result"
    }
   ],
   "source": [
    "df.describe()"
   ]
  },
  {
   "cell_type": "code",
   "execution_count": 141,
   "id": "95d0bc57",
   "metadata": {},
   "outputs": [],
   "source": [
    "pd.set_option('display.float_format', lambda x: '%.2f' % x)"
   ]
  },
  {
   "cell_type": "code",
   "execution_count": 142,
   "id": "dd0df916",
   "metadata": {},
   "outputs": [
    {
     "data": {
      "text/html": [
       "<div>\n",
       "<style scoped>\n",
       "    .dataframe tbody tr th:only-of-type {\n",
       "        vertical-align: middle;\n",
       "    }\n",
       "\n",
       "    .dataframe tbody tr th {\n",
       "        vertical-align: top;\n",
       "    }\n",
       "\n",
       "    .dataframe thead th {\n",
       "        text-align: right;\n",
       "    }\n",
       "</style>\n",
       "<table border=\"1\" class=\"dataframe\">\n",
       "  <thead>\n",
       "    <tr style=\"text-align: right;\">\n",
       "      <th></th>\n",
       "      <th>input</th>\n",
       "      <th>output</th>\n",
       "    </tr>\n",
       "  </thead>\n",
       "  <tbody>\n",
       "    <tr>\n",
       "      <th>count</th>\n",
       "      <td>1696.00</td>\n",
       "      <td>1696.00</td>\n",
       "    </tr>\n",
       "    <tr>\n",
       "      <th>mean</th>\n",
       "      <td>1.16</td>\n",
       "      <td>-34.09</td>\n",
       "    </tr>\n",
       "    <tr>\n",
       "      <th>std</th>\n",
       "      <td>79.01</td>\n",
       "      <td>65.77</td>\n",
       "    </tr>\n",
       "    <tr>\n",
       "      <th>min</th>\n",
       "      <td>-134.96</td>\n",
       "      <td>-132.42</td>\n",
       "    </tr>\n",
       "    <tr>\n",
       "      <th>25%</th>\n",
       "      <td>-63.39</td>\n",
       "      <td>-80.03</td>\n",
       "    </tr>\n",
       "    <tr>\n",
       "      <th>50%</th>\n",
       "      <td>10.20</td>\n",
       "      <td>-50.47</td>\n",
       "    </tr>\n",
       "    <tr>\n",
       "      <th>75%</th>\n",
       "      <td>70.26</td>\n",
       "      <td>-11.00</td>\n",
       "    </tr>\n",
       "    <tr>\n",
       "      <th>max</th>\n",
       "      <td>134.61</td>\n",
       "      <td>134.43</td>\n",
       "    </tr>\n",
       "  </tbody>\n",
       "</table>\n",
       "</div>"
      ],
      "text/plain": [
       "        input  output\n",
       "count 1696.00 1696.00\n",
       "mean     1.16  -34.09\n",
       "std     79.01   65.77\n",
       "min   -134.96 -132.42\n",
       "25%    -63.39  -80.03\n",
       "50%     10.20  -50.47\n",
       "75%     70.26  -11.00\n",
       "max    134.61  134.43"
      ]
     },
     "execution_count": 142,
     "metadata": {},
     "output_type": "execute_result"
    }
   ],
   "source": [
    "df.describe()"
   ]
  },
  {
   "cell_type": "code",
   "execution_count": 143,
   "id": "92e773e5",
   "metadata": {
    "scrolled": true
   },
   "outputs": [
    {
     "data": {
      "text/plain": [
       "input     1\n",
       "output    1\n",
       "dtype: int64"
      ]
     },
     "execution_count": 143,
     "metadata": {},
     "output_type": "execute_result"
    }
   ],
   "source": [
    "#find missing values\n",
    "df.isnull().sum()"
   ]
  },
  {
   "cell_type": "code",
   "execution_count": 144,
   "id": "0dd73e7d",
   "metadata": {},
   "outputs": [
    {
     "data": {
      "text/plain": [
       "input     True\n",
       "output    True\n",
       "dtype: bool"
      ]
     },
     "execution_count": 144,
     "metadata": {},
     "output_type": "execute_result"
    }
   ],
   "source": [
    "df.isnull().any()"
   ]
  },
  {
   "cell_type": "code",
   "execution_count": 145,
   "id": "d19c2d8b",
   "metadata": {},
   "outputs": [
    {
     "data": {
      "text/html": [
       "<div>\n",
       "<style scoped>\n",
       "    .dataframe tbody tr th:only-of-type {\n",
       "        vertical-align: middle;\n",
       "    }\n",
       "\n",
       "    .dataframe tbody tr th {\n",
       "        vertical-align: top;\n",
       "    }\n",
       "\n",
       "    .dataframe thead th {\n",
       "        text-align: right;\n",
       "    }\n",
       "</style>\n",
       "<table border=\"1\" class=\"dataframe\">\n",
       "  <thead>\n",
       "    <tr style=\"text-align: right;\">\n",
       "      <th></th>\n",
       "      <th>input</th>\n",
       "      <th>output</th>\n",
       "    </tr>\n",
       "  </thead>\n",
       "  <tbody>\n",
       "    <tr>\n",
       "      <th>0</th>\n",
       "      <td>-122.74</td>\n",
       "      <td>-130.57</td>\n",
       "    </tr>\n",
       "    <tr>\n",
       "      <th>1</th>\n",
       "      <td>-121.53</td>\n",
       "      <td>-129.94</td>\n",
       "    </tr>\n",
       "    <tr>\n",
       "      <th>2</th>\n",
       "      <td>-134.92</td>\n",
       "      <td>-130.14</td>\n",
       "    </tr>\n",
       "    <tr>\n",
       "      <th>3</th>\n",
       "      <td>-120.61</td>\n",
       "      <td>-125.76</td>\n",
       "    </tr>\n",
       "    <tr>\n",
       "      <th>4</th>\n",
       "      <td>-129.89</td>\n",
       "      <td>-112.79</td>\n",
       "    </tr>\n",
       "    <tr>\n",
       "      <th>...</th>\n",
       "      <td>...</td>\n",
       "      <td>...</td>\n",
       "    </tr>\n",
       "    <tr>\n",
       "      <th>1692</th>\n",
       "      <td>25.41</td>\n",
       "      <td>-76.38</td>\n",
       "    </tr>\n",
       "    <tr>\n",
       "      <th>1693</th>\n",
       "      <td>29.54</td>\n",
       "      <td>-82.80</td>\n",
       "    </tr>\n",
       "    <tr>\n",
       "      <th>1694</th>\n",
       "      <td>31.63</td>\n",
       "      <td>-87.00</td>\n",
       "    </tr>\n",
       "    <tr>\n",
       "      <th>1695</th>\n",
       "      <td>29.09</td>\n",
       "      <td>-104.94</td>\n",
       "    </tr>\n",
       "    <tr>\n",
       "      <th>1696</th>\n",
       "      <td>17.15</td>\n",
       "      <td>-101.73</td>\n",
       "    </tr>\n",
       "  </tbody>\n",
       "</table>\n",
       "<p>1697 rows × 2 columns</p>\n",
       "</div>"
      ],
      "text/plain": [
       "       input  output\n",
       "0    -122.74 -130.57\n",
       "1    -121.53 -129.94\n",
       "2    -134.92 -130.14\n",
       "3    -120.61 -125.76\n",
       "4    -129.89 -112.79\n",
       "...      ...     ...\n",
       "1692   25.41  -76.38\n",
       "1693   29.54  -82.80\n",
       "1694   31.63  -87.00\n",
       "1695   29.09 -104.94\n",
       "1696   17.15 -101.73\n",
       "\n",
       "[1697 rows x 2 columns]"
      ]
     },
     "execution_count": 145,
     "metadata": {},
     "output_type": "execute_result"
    }
   ],
   "source": [
    "df"
   ]
  },
  {
   "cell_type": "code",
   "execution_count": 146,
   "id": "54c36147",
   "metadata": {},
   "outputs": [],
   "source": [
    "#dropping null values\n",
    "df.dropna(inplace = True)"
   ]
  },
  {
   "cell_type": "code",
   "execution_count": 147,
   "id": "a55ab8fd",
   "metadata": {},
   "outputs": [
    {
     "data": {
      "text/plain": [
       "input     False\n",
       "output    False\n",
       "dtype: bool"
      ]
     },
     "execution_count": 147,
     "metadata": {},
     "output_type": "execute_result"
    }
   ],
   "source": [
    "df.isnull().any()"
   ]
  },
  {
   "cell_type": "code",
   "execution_count": 148,
   "id": "f03404c5",
   "metadata": {},
   "outputs": [
    {
     "data": {
      "text/html": [
       "<div>\n",
       "<style scoped>\n",
       "    .dataframe tbody tr th:only-of-type {\n",
       "        vertical-align: middle;\n",
       "    }\n",
       "\n",
       "    .dataframe tbody tr th {\n",
       "        vertical-align: top;\n",
       "    }\n",
       "\n",
       "    .dataframe thead th {\n",
       "        text-align: right;\n",
       "    }\n",
       "</style>\n",
       "<table border=\"1\" class=\"dataframe\">\n",
       "  <thead>\n",
       "    <tr style=\"text-align: right;\">\n",
       "      <th></th>\n",
       "      <th>input</th>\n",
       "      <th>output</th>\n",
       "    </tr>\n",
       "  </thead>\n",
       "  <tbody>\n",
       "    <tr>\n",
       "      <th>0</th>\n",
       "      <td>-122.74</td>\n",
       "      <td>-130.57</td>\n",
       "    </tr>\n",
       "    <tr>\n",
       "      <th>1</th>\n",
       "      <td>-121.53</td>\n",
       "      <td>-129.94</td>\n",
       "    </tr>\n",
       "    <tr>\n",
       "      <th>2</th>\n",
       "      <td>-134.92</td>\n",
       "      <td>-130.14</td>\n",
       "    </tr>\n",
       "    <tr>\n",
       "      <th>3</th>\n",
       "      <td>-120.61</td>\n",
       "      <td>-125.76</td>\n",
       "    </tr>\n",
       "    <tr>\n",
       "      <th>4</th>\n",
       "      <td>-129.89</td>\n",
       "      <td>-112.79</td>\n",
       "    </tr>\n",
       "    <tr>\n",
       "      <th>...</th>\n",
       "      <td>...</td>\n",
       "      <td>...</td>\n",
       "    </tr>\n",
       "    <tr>\n",
       "      <th>1692</th>\n",
       "      <td>25.41</td>\n",
       "      <td>-76.38</td>\n",
       "    </tr>\n",
       "    <tr>\n",
       "      <th>1693</th>\n",
       "      <td>29.54</td>\n",
       "      <td>-82.80</td>\n",
       "    </tr>\n",
       "    <tr>\n",
       "      <th>1694</th>\n",
       "      <td>31.63</td>\n",
       "      <td>-87.00</td>\n",
       "    </tr>\n",
       "    <tr>\n",
       "      <th>1695</th>\n",
       "      <td>29.09</td>\n",
       "      <td>-104.94</td>\n",
       "    </tr>\n",
       "    <tr>\n",
       "      <th>1696</th>\n",
       "      <td>17.15</td>\n",
       "      <td>-101.73</td>\n",
       "    </tr>\n",
       "  </tbody>\n",
       "</table>\n",
       "<p>1696 rows × 2 columns</p>\n",
       "</div>"
      ],
      "text/plain": [
       "       input  output\n",
       "0    -122.74 -130.57\n",
       "1    -121.53 -129.94\n",
       "2    -134.92 -130.14\n",
       "3    -120.61 -125.76\n",
       "4    -129.89 -112.79\n",
       "...      ...     ...\n",
       "1692   25.41  -76.38\n",
       "1693   29.54  -82.80\n",
       "1694   31.63  -87.00\n",
       "1695   29.09 -104.94\n",
       "1696   17.15 -101.73\n",
       "\n",
       "[1696 rows x 2 columns]"
      ]
     },
     "execution_count": 148,
     "metadata": {},
     "output_type": "execute_result"
    }
   ],
   "source": [
    "df"
   ]
  },
  {
   "cell_type": "code",
   "execution_count": 149,
   "id": "55afa09e",
   "metadata": {},
   "outputs": [
    {
     "data": {
      "text/plain": [
       "<AxesSubplot:>"
      ]
     },
     "execution_count": 149,
     "metadata": {},
     "output_type": "execute_result"
    },
    {
     "data": {
      "image/png": "[encoded data removed]",
      "text/plain": [
       "<Figure size 432x288 with 1 Axes>"
      ]
     },
     "metadata": {
      "needs_background": "light"
     },
     "output_type": "display_data"
    }
   ],
   "source": [
    "#using boxplot plotting outliers \n",
    "df.boxplot()"
   ]
  },
  {
   "cell_type": "code",
   "execution_count": 150,
   "id": "0ecc827f",
   "metadata": {},
   "outputs": [
    {
     "data": {
      "text/plain": [
       "<AxesSubplot:xlabel='output'>"
      ]
     },
     "execution_count": 150,
     "metadata": {},
     "output_type": "execute_result"
    },
    {
     "data": {
      "image/png": "[encoded data removed]",
      "text/plain": [
       "<Figure size 432x288 with 1 Axes>"
      ]
     },
     "metadata": {
      "needs_background": "light"
     },
     "output_type": "display_data"
    }
   ],
   "source": [
    "sns.boxplot(df[\"output\"])"
   ]
  },
  {
   "cell_type": "code",
   "execution_count": 151,
   "id": "edf5a83f",
   "metadata": {},
   "outputs": [],
   "source": [
    "#finding percentage of outliers\n",
    "def find_outliers(df, column, verbose = False):\n",
    "    q1 = df[column].quantile(0.25)\n",
    "    q3 = df[column].quantile(0.75)\n",
    "    IQR = q3 - q1\n",
    "    lower_boundary = q1 - (1.5 * IQR)\n",
    "    upper_boundary = q3 + (1.5 * IQR)\n",
    "    outliers = df[(df[column] < lower_boundary) | (df[column] > upper_boundary)]\n",
    "    if verbose:\n",
    "        display(outliers)\n",
    "        print(\"Outliers Percentage :: \", (len(outliers) / len(df)) * 100, \"%\")\n",
    "    return(outliers)\n",
    "    "
   ]
  },
  {
   "cell_type": "code",
   "execution_count": 152,
   "id": "1a326b8d",
   "metadata": {},
   "outputs": [
    {
     "data": {
      "text/html": [
       "<div>\n",
       "<style scoped>\n",
       "    .dataframe tbody tr th:only-of-type {\n",
       "        vertical-align: middle;\n",
       "    }\n",
       "\n",
       "    .dataframe tbody tr th {\n",
       "        vertical-align: top;\n",
       "    }\n",
       "\n",
       "    .dataframe thead th {\n",
       "        text-align: right;\n",
       "    }\n",
       "</style>\n",
       "<table border=\"1\" class=\"dataframe\">\n",
       "  <thead>\n",
       "    <tr style=\"text-align: right;\">\n",
       "      <th></th>\n",
       "      <th>input</th>\n",
       "      <th>output</th>\n",
       "    </tr>\n",
       "  </thead>\n",
       "  <tbody>\n",
       "    <tr>\n",
       "      <th>339</th>\n",
       "      <td>114.23</td>\n",
       "      <td>100.49</td>\n",
       "    </tr>\n",
       "    <tr>\n",
       "      <th>341</th>\n",
       "      <td>94.67</td>\n",
       "      <td>103.82</td>\n",
       "    </tr>\n",
       "    <tr>\n",
       "      <th>342</th>\n",
       "      <td>114.63</td>\n",
       "      <td>94.00</td>\n",
       "    </tr>\n",
       "    <tr>\n",
       "      <th>343</th>\n",
       "      <td>103.62</td>\n",
       "      <td>109.97</td>\n",
       "    </tr>\n",
       "    <tr>\n",
       "      <th>345</th>\n",
       "      <td>131.91</td>\n",
       "      <td>94.64</td>\n",
       "    </tr>\n",
       "    <tr>\n",
       "      <th>...</th>\n",
       "      <td>...</td>\n",
       "      <td>...</td>\n",
       "    </tr>\n",
       "    <tr>\n",
       "      <th>1470</th>\n",
       "      <td>133.10</td>\n",
       "      <td>133.79</td>\n",
       "    </tr>\n",
       "    <tr>\n",
       "      <th>1471</th>\n",
       "      <td>124.63</td>\n",
       "      <td>129.00</td>\n",
       "    </tr>\n",
       "    <tr>\n",
       "      <th>1472</th>\n",
       "      <td>121.06</td>\n",
       "      <td>126.75</td>\n",
       "    </tr>\n",
       "    <tr>\n",
       "      <th>1473</th>\n",
       "      <td>133.02</td>\n",
       "      <td>132.06</td>\n",
       "    </tr>\n",
       "    <tr>\n",
       "      <th>1474</th>\n",
       "      <td>106.79</td>\n",
       "      <td>126.54</td>\n",
       "    </tr>\n",
       "  </tbody>\n",
       "</table>\n",
       "<p>144 rows × 2 columns</p>\n",
       "</div>"
      ],
      "text/plain": [
       "      input  output\n",
       "339  114.23  100.49\n",
       "341   94.67  103.82\n",
       "342  114.63   94.00\n",
       "343  103.62  109.97\n",
       "345  131.91   94.64\n",
       "...     ...     ...\n",
       "1470 133.10  133.79\n",
       "1471 124.63  129.00\n",
       "1472 121.06  126.75\n",
       "1473 133.02  132.06\n",
       "1474 106.79  126.54\n",
       "\n",
       "[144 rows x 2 columns]"
      ]
     },
     "execution_count": 152,
     "metadata": {},
     "output_type": "execute_result"
    }
   ],
   "source": [
    "find_outliers(df, \"output\") "
   ]
  },
  {
   "cell_type": "code",
   "execution_count": 153,
   "id": "2bf604dc",
   "metadata": {},
   "outputs": [
    {
     "data": {
      "text/html": [
       "<div>\n",
       "<style scoped>\n",
       "    .dataframe tbody tr th:only-of-type {\n",
       "        vertical-align: middle;\n",
       "    }\n",
       "\n",
       "    .dataframe tbody tr th {\n",
       "        vertical-align: top;\n",
       "    }\n",
       "\n",
       "    .dataframe thead th {\n",
       "        text-align: right;\n",
       "    }\n",
       "</style>\n",
       "<table border=\"1\" class=\"dataframe\">\n",
       "  <thead>\n",
       "    <tr style=\"text-align: right;\">\n",
       "      <th></th>\n",
       "      <th>input</th>\n",
       "      <th>output</th>\n",
       "    </tr>\n",
       "  </thead>\n",
       "  <tbody>\n",
       "    <tr>\n",
       "      <th>339</th>\n",
       "      <td>114.23</td>\n",
       "      <td>100.49</td>\n",
       "    </tr>\n",
       "    <tr>\n",
       "      <th>341</th>\n",
       "      <td>94.67</td>\n",
       "      <td>103.82</td>\n",
       "    </tr>\n",
       "    <tr>\n",
       "      <th>342</th>\n",
       "      <td>114.63</td>\n",
       "      <td>94.00</td>\n",
       "    </tr>\n",
       "    <tr>\n",
       "      <th>343</th>\n",
       "      <td>103.62</td>\n",
       "      <td>109.97</td>\n",
       "    </tr>\n",
       "    <tr>\n",
       "      <th>345</th>\n",
       "      <td>131.91</td>\n",
       "      <td>94.64</td>\n",
       "    </tr>\n",
       "    <tr>\n",
       "      <th>...</th>\n",
       "      <td>...</td>\n",
       "      <td>...</td>\n",
       "    </tr>\n",
       "    <tr>\n",
       "      <th>1470</th>\n",
       "      <td>133.10</td>\n",
       "      <td>133.79</td>\n",
       "    </tr>\n",
       "    <tr>\n",
       "      <th>1471</th>\n",
       "      <td>124.63</td>\n",
       "      <td>129.00</td>\n",
       "    </tr>\n",
       "    <tr>\n",
       "      <th>1472</th>\n",
       "      <td>121.06</td>\n",
       "      <td>126.75</td>\n",
       "    </tr>\n",
       "    <tr>\n",
       "      <th>1473</th>\n",
       "      <td>133.02</td>\n",
       "      <td>132.06</td>\n",
       "    </tr>\n",
       "    <tr>\n",
       "      <th>1474</th>\n",
       "      <td>106.79</td>\n",
       "      <td>126.54</td>\n",
       "    </tr>\n",
       "  </tbody>\n",
       "</table>\n",
       "<p>144 rows × 2 columns</p>\n",
       "</div>"
      ],
      "text/plain": [
       "      input  output\n",
       "339  114.23  100.49\n",
       "341   94.67  103.82\n",
       "342  114.63   94.00\n",
       "343  103.62  109.97\n",
       "345  131.91   94.64\n",
       "...     ...     ...\n",
       "1470 133.10  133.79\n",
       "1471 124.63  129.00\n",
       "1472 121.06  126.75\n",
       "1473 133.02  132.06\n",
       "1474 106.79  126.54\n",
       "\n",
       "[144 rows x 2 columns]"
      ]
     },
     "metadata": {},
     "output_type": "display_data"
    },
    {
     "name": "stdout",
     "output_type": "stream",
     "text": [
      "Outliers Percentage ::  8.49056603773585 %\n"
     ]
    }
   ],
   "source": [
    "outliers_salary = find_outliers(df,\"output\", verbose = True)"
   ]
  },
  {
   "cell_type": "code",
   "execution_count": 154,
   "id": "103f8707",
   "metadata": {},
   "outputs": [
    {
     "data": {
      "text/plain": [
       "<AxesSubplot:xlabel='input', ylabel='output'>"
      ]
     },
     "execution_count": 154,
     "metadata": {},
     "output_type": "execute_result"
    },
    {
     "data": {
      "image/png": "[encoded data removed]",
      "text/plain": [
       "<Figure size 432x288 with 1 Axes>"
      ]
     },
     "metadata": {
      "needs_background": "light"
     },
     "output_type": "display_data"
    }
   ],
   "source": [
    "#scatterplot\n",
    "sns.scatterplot(df[\"input\"],df[\"output\"])"
   ]
  },
  {
   "cell_type": "code",
   "execution_count": 176,
   "id": "37585462",
   "metadata": {},
   "outputs": [],
   "source": [
    "#define X and y values\n",
    "X = df.iloc[:,:-1].values\n",
    "y = df.iloc[:,1].values"
   ]
  },
  {
   "cell_type": "code",
   "execution_count": 177,
   "id": "f1e5e86e",
   "metadata": {},
   "outputs": [
    {
     "data": {
      "text/plain": [
       "array([[-122.7406674 ],\n",
       "       [-121.5314194 ],\n",
       "       [-134.917019  ],\n",
       "       ...,\n",
       "       [  31.6333313 ],\n",
       "       [  29.09145773],\n",
       "       [  17.14529595]])"
      ]
     },
     "execution_count": 177,
     "metadata": {},
     "output_type": "execute_result"
    }
   ],
   "source": [
    "X"
   ]
  },
  {
   "cell_type": "code",
   "execution_count": 178,
   "id": "93565023",
   "metadata": {},
   "outputs": [
    {
     "data": {
      "text/plain": [
       "array([-130.5720846, -129.9389289, -130.1418321, ...,  -87.       ,\n",
       "       -104.9430524, -101.7268941])"
      ]
     },
     "execution_count": 178,
     "metadata": {},
     "output_type": "execute_result"
    }
   ],
   "source": [
    "y"
   ]
  },
  {
   "cell_type": "code",
   "execution_count": 179,
   "id": "fdcc645d",
   "metadata": {},
   "outputs": [],
   "source": [
    "#importing ml library\n",
    "from sklearn.model_selection import train_test_split"
   ]
  },
  {
   "cell_type": "code",
   "execution_count": 180,
   "id": "328bd07b",
   "metadata": {},
   "outputs": [],
   "source": [
    "X_train,X_test,y_train,y_test = train_test_split(X,y,test_size=0.2,random_state = 10)"
   ]
  },
  {
   "cell_type": "code",
   "execution_count": 160,
   "id": "23e7aa8f",
   "metadata": {
    "scrolled": true
   },
   "outputs": [
    {
     "data": {
      "text/plain": [
       "(array([[-120.0696243 ],\n",
       "        [-116.3328387 ],\n",
       "        [  46.73433139],\n",
       "        ...,\n",
       "        [  82.6333313 ],\n",
       "        [-117.3666687 ],\n",
       "        [ -23.3666687 ]]),\n",
       " array([[-3.48218737e+01],\n",
       "        [-1.19366669e+02],\n",
       "        [ 1.28036571e+02],\n",
       "        [ 1.02633331e+02],\n",
       "        [ 9.26333313e+01],\n",
       "        [-8.93666687e+01],\n",
       "        [-1.17213704e+02],\n",
       "        [-1.90066356e+01],\n",
       "        [ 3.62746198e+00],\n",
       "        [-9.97125535e+01],\n",
       "        [ 8.62740089e+01],\n",
       "        [ 1.22633331e+02],\n",
       "        [ 6.26333313e+01],\n",
       "        [ 4.88754613e+01],\n",
       "        [-4.93666687e+01],\n",
       "        [-9.36666870e+00],\n",
       "        [ 7.91422045e-01],\n",
       "        [-8.84900956e+01],\n",
       "        [ 1.87466308e+01],\n",
       "        [-2.08067851e+01],\n",
       "        [-1.23003227e+02],\n",
       "        [ 9.56384899e+01],\n",
       "        [ 6.66333313e+01],\n",
       "        [-1.17880300e+01],\n",
       "        [-3.17888073e+01],\n",
       "        [-7.34400993e+00],\n",
       "        [ 6.04582180e+01],\n",
       "        [-1.22813233e+02],\n",
       "        [-5.89881963e+01],\n",
       "        [ 3.05564537e+01],\n",
       "        [ 4.46333313e+01],\n",
       "        [ 1.22633331e+02],\n",
       "        [-1.36723548e+00],\n",
       "        [ 1.14573440e+02],\n",
       "        [-6.83758247e+01],\n",
       "        [-1.01648740e+02],\n",
       "        [ 7.74491549e+01],\n",
       "        [-1.93666687e+01],\n",
       "        [-1.22657676e+02],\n",
       "        [-1.30789929e+02],\n",
       "        [ 1.31909580e+02],\n",
       "        [-1.04906529e+02],\n",
       "        [ 5.74923691e+00],\n",
       "        [ 7.51857335e+01],\n",
       "        [-1.23371849e+02],\n",
       "        [ 9.96333313e+01],\n",
       "        [-9.33666687e+01],\n",
       "        [-2.18956157e+01],\n",
       "        [ 1.03822138e+01],\n",
       "        [-1.15703631e+02],\n",
       "        [ 7.74491549e+01],\n",
       "        [-1.20366669e+02],\n",
       "        [-1.09240534e+02],\n",
       "        [ 3.96333313e+01],\n",
       "        [-1.31021373e+02],\n",
       "        [-8.21348059e+01],\n",
       "        [ 6.63333130e+00],\n",
       "        [-2.78216707e+01],\n",
       "        [ 3.42748177e+01],\n",
       "        [-1.14366669e+02],\n",
       "        [ 3.33514051e+01],\n",
       "        [ 1.20202913e+02],\n",
       "        [ 1.05550726e+02],\n",
       "        [ 1.36244542e+01],\n",
       "        [-1.20256354e+02],\n",
       "        [ 7.98068592e+01],\n",
       "        [ 3.18940247e+01],\n",
       "        [ 7.10188833e+01],\n",
       "        [-8.27742855e+01],\n",
       "        [ 3.27199168e+01],\n",
       "        [-1.11902602e+02],\n",
       "        [-1.02969454e+02],\n",
       "        [ 1.33101515e+02],\n",
       "        [-8.70241036e+01],\n",
       "        [ 7.65941488e+01],\n",
       "        [ 5.74923691e+00],\n",
       "        [-1.17685497e+02],\n",
       "        [ 2.95373040e+01],\n",
       "        [-1.22366669e+02],\n",
       "        [-1.21531419e+02],\n",
       "        [ 9.25140293e+00],\n",
       "        [-4.33666687e+01],\n",
       "        [ 1.01270735e+02],\n",
       "        [-2.33666687e+01],\n",
       "        [ 4.10962596e+01],\n",
       "        [-1.01164529e+02],\n",
       "        [-1.12366669e+02],\n",
       "        [ 9.66333313e+01],\n",
       "        [-1.18632322e+02],\n",
       "        [-2.76921886e+01],\n",
       "        [-6.33666687e+01],\n",
       "        [ 1.08990831e+02],\n",
       "        [ 3.18940247e+01],\n",
       "        [-5.96906077e+01],\n",
       "        [-2.43666687e+01],\n",
       "        [-9.43091377e+01],\n",
       "        [ 1.40056998e+01],\n",
       "        [-1.20256354e+02],\n",
       "        [ 6.59939481e+01],\n",
       "        [-7.82512609e+01],\n",
       "        [ 1.17240372e+02],\n",
       "        [ 1.26333313e+01],\n",
       "        [ 5.54752816e+01],\n",
       "        [ 4.61475039e+01],\n",
       "        [ 1.02633331e+02],\n",
       "        [-8.29918553e+01],\n",
       "        [ 7.04676664e+01],\n",
       "        [-1.19366669e+02],\n",
       "        [ 1.12840595e+02],\n",
       "        [ 2.34431365e+01],\n",
       "        [-7.27079709e+01],\n",
       "        [-5.08998696e+01],\n",
       "        [-5.03577660e+01],\n",
       "        [ 6.36225441e+01],\n",
       "        [ 1.96333313e+01],\n",
       "        [-1.03219985e+02],\n",
       "        [ 1.04088777e+02],\n",
       "        [-4.33666687e+01],\n",
       "        [ 4.63161876e+01],\n",
       "        [-4.88697559e+00],\n",
       "        [ 3.58169221e+01],\n",
       "        [ 1.03078927e+02],\n",
       "        [ 8.18756138e+01],\n",
       "        [-4.52763981e+01],\n",
       "        [-3.28281670e+01],\n",
       "        [ 1.77845539e+01],\n",
       "        [ 1.46333313e+01],\n",
       "        [ 6.25811192e+01],\n",
       "        [ 6.01439940e+01],\n",
       "        [ 5.77689002e+00],\n",
       "        [ 1.24633331e+02],\n",
       "        [-2.03666687e+01],\n",
       "        [ 1.05724269e+02],\n",
       "        [ 5.24402860e+01],\n",
       "        [ 3.09073860e+01],\n",
       "        [ 4.11689516e+01],\n",
       "        [-6.16116056e+01],\n",
       "        [ 2.76333313e+01],\n",
       "        [-1.15366669e+02],\n",
       "        [-3.25997528e+01],\n",
       "        [ 2.60080179e+01],\n",
       "        [ 2.06333313e+01],\n",
       "        [-1.21204666e+02],\n",
       "        [-4.97617925e+01],\n",
       "        [ 1.08134871e+02],\n",
       "        [ 8.47752444e+01],\n",
       "        [ 1.16194467e+02],\n",
       "        [ 5.13237417e+01],\n",
       "        [-3.77651659e+01],\n",
       "        [ 8.61536580e+01],\n",
       "        [ 2.24098324e+01],\n",
       "        [ 5.16224752e+01],\n",
       "        [ 2.90914577e+01],\n",
       "        [ 4.56496248e+01],\n",
       "        [ 3.09256481e+01],\n",
       "        [-2.17403122e+01],\n",
       "        [-9.66936940e+01],\n",
       "        [ 1.24727894e+02],\n",
       "        [ 5.06081020e+01],\n",
       "        [ 7.86333313e+01],\n",
       "        [ 4.33879895e+01],\n",
       "        [-1.11044048e+02],\n",
       "        [ 7.00294931e+01],\n",
       "        [-6.14201474e+01],\n",
       "        [-8.08285034e+01],\n",
       "        [-1.00558046e+02],\n",
       "        [-1.17609424e+02],\n",
       "        [ 2.54101835e+01],\n",
       "        [ 7.38132914e+01],\n",
       "        [-6.60088865e+01],\n",
       "        [-1.10046322e+02],\n",
       "        [ 5.83869087e+01],\n",
       "        [ 6.64690865e+01],\n",
       "        [ 1.13633331e+02],\n",
       "        [ 1.32281489e+02],\n",
       "        [ 1.07931883e+02],\n",
       "        [ 2.25691244e+01],\n",
       "        [ 7.16333313e+01],\n",
       "        [ 1.29541672e+02],\n",
       "        [-2.97989257e+01],\n",
       "        [-1.17366669e+02],\n",
       "        [-5.03666687e+01],\n",
       "        [ 8.19608130e+01],\n",
       "        [ 1.05075600e+02],\n",
       "        [ 1.76925685e+00],\n",
       "        [ 1.86333313e+01],\n",
       "        [ 2.95373040e+01],\n",
       "        [ 5.86333313e+01],\n",
       "        [ 7.44129805e+01],\n",
       "        [-1.15262637e+02],\n",
       "        [ 4.09508298e+01],\n",
       "        [-5.34441220e-02],\n",
       "        [-1.44345914e+01],\n",
       "        [ 2.25286633e+01],\n",
       "        [ 7.35942822e+01],\n",
       "        [ 5.89160873e+01],\n",
       "        [ 3.32881347e+01],\n",
       "        [ 3.09073860e+01],\n",
       "        [ 2.23302716e+01],\n",
       "        [-7.71707804e+01],\n",
       "        [-7.71707804e+01],\n",
       "        [ 1.72908434e+01],\n",
       "        [-7.30845574e+01],\n",
       "        [ 4.53235284e+01],\n",
       "        [-2.61307632e+01],\n",
       "        [ 3.98486544e+01],\n",
       "        [ 3.99188732e+01],\n",
       "        [-5.93826143e+01],\n",
       "        [ 9.35457001e+01],\n",
       "        [ 7.99146898e+01],\n",
       "        [-1.13228225e+02],\n",
       "        [ 5.16333313e+01],\n",
       "        [-4.05521749e+01],\n",
       "        [-1.31905360e+02],\n",
       "        [ 4.29293399e+01],\n",
       "        [ 1.20103012e+02],\n",
       "        [-1.25366669e+02],\n",
       "        [-5.83760647e+01],\n",
       "        [-1.24366669e+02],\n",
       "        [-1.17358953e+02],\n",
       "        [-1.10176262e+02],\n",
       "        [ 7.20417171e+01],\n",
       "        [ 9.89197070e+00],\n",
       "        [ 8.68218944e+01],\n",
       "        [-2.27492552e+01],\n",
       "        [-8.24733063e+01],\n",
       "        [ 3.43714883e+01],\n",
       "        [-5.28469003e+01],\n",
       "        [ 3.95614734e+01],\n",
       "        [-3.82574481e+01],\n",
       "        [ 1.33024034e+02],\n",
       "        [ 5.89157904e+01],\n",
       "        [ 3.83340716e+01],\n",
       "        [ 5.56333313e+01],\n",
       "        [ 1.76333313e+01],\n",
       "        [-3.33666687e+01],\n",
       "        [-1.33818175e+02],\n",
       "        [ 6.86333313e+01],\n",
       "        [-1.05893180e+02],\n",
       "        [ 2.90914577e+01],\n",
       "        [-7.63532445e+01],\n",
       "        [-3.36666870e+00],\n",
       "        [ 1.14231059e+02],\n",
       "        [ 6.16333313e+01],\n",
       "        [-1.07371224e+02],\n",
       "        [-5.12736172e+00],\n",
       "        [ 8.31557198e+01],\n",
       "        [ 1.56333313e+01],\n",
       "        [-1.33666687e+01],\n",
       "        [ 3.32061394e+01],\n",
       "        [ 1.93448977e+01],\n",
       "        [-1.53666687e+01],\n",
       "        [ 2.50575136e+01],\n",
       "        [ 9.32628086e+00],\n",
       "        [ 2.63333130e+00],\n",
       "        [ 3.40184006e+01],\n",
       "        [ 1.06496484e-01],\n",
       "        [-1.03332003e+01],\n",
       "        [ 8.17706617e+00],\n",
       "        [-1.34312702e+02],\n",
       "        [-1.20366669e+02],\n",
       "        [-9.46835246e-01],\n",
       "        [ 3.43714883e+01],\n",
       "        [-1.08499640e+02],\n",
       "        [ 5.26333313e+01],\n",
       "        [ 1.03579923e+02],\n",
       "        [-6.03666687e+01],\n",
       "        [ 1.14633331e+02],\n",
       "        [-1.70239326e+01],\n",
       "        [ 5.57504025e+01],\n",
       "        [-1.19366669e+02],\n",
       "        [-6.09840419e+01],\n",
       "        [ 1.24641014e+02],\n",
       "        [-5.16089423e+01],\n",
       "        [ 3.58169221e+01],\n",
       "        [-6.03666687e+01],\n",
       "        [-1.22740667e+02],\n",
       "        [ 5.46333313e+01],\n",
       "        [ 9.95308467e+01],\n",
       "        [-2.82814593e+01],\n",
       "        [-1.32080161e+02],\n",
       "        [ 6.96333313e+01],\n",
       "        [-3.14543411e+01],\n",
       "        [ 6.63333130e+00],\n",
       "        [ 6.56333313e+01],\n",
       "        [ 3.36873059e+01],\n",
       "        [ 2.54101835e+01],\n",
       "        [ 1.03078927e+02],\n",
       "        [ 2.98796474e+01],\n",
       "        [-9.89477182e+01],\n",
       "        [ 1.12633331e+02],\n",
       "        [ 4.17798110e+01],\n",
       "        [ 1.16329184e+01],\n",
       "        [-5.28257306e+01],\n",
       "        [-7.58673491e+00],\n",
       "        [-3.60459537e+01],\n",
       "        [-3.06820345e+01],\n",
       "        [-1.30255318e+02],\n",
       "        [ 8.06333313e+01],\n",
       "        [ 2.96714939e+01],\n",
       "        [ 8.74625641e+01],\n",
       "        [ 1.26333313e+01],\n",
       "        [-4.68829411e+00],\n",
       "        [-4.13666687e+01],\n",
       "        [-9.26492541e+01],\n",
       "        [ 1.76333313e+01],\n",
       "        [-4.98523931e+01],\n",
       "        [-4.36732556e+01],\n",
       "        [ 7.74603234e+01],\n",
       "        [ 6.96333313e+01],\n",
       "        [-1.03666687e+01],\n",
       "        [-2.97989257e+01],\n",
       "        [-2.83666687e+01],\n",
       "        [ 1.16333313e+01],\n",
       "        [ 7.46333313e+01],\n",
       "        [ 9.69017395e+01],\n",
       "        [-1.31366669e+02],\n",
       "        [ 1.21060076e+02],\n",
       "        [ 6.54181158e+01],\n",
       "        [-1.34312702e+02],\n",
       "        [-1.21653543e+02],\n",
       "        [ 9.81987057e+01],\n",
       "        [-2.00499852e+01],\n",
       "        [-1.23366669e+02],\n",
       "        [ 1.26333313e+01],\n",
       "        [ 9.82092228e+01],\n",
       "        [-1.20812180e+02],\n",
       "        [-7.85326987e+01],\n",
       "        [-8.17703344e+01],\n",
       "        [-2.53666687e+01],\n",
       "        [ 1.08633331e+02],\n",
       "        [ 8.51075377e+01],\n",
       "        [-1.11044048e+02],\n",
       "        [-1.02527342e+02],\n",
       "        [ 3.97632351e+01],\n",
       "        [ 1.12190520e+02],\n",
       "        [ 1.12088070e+02],\n",
       "        [ 1.12633331e+02],\n",
       "        [ 8.02141952e+01],\n",
       "        [ 3.74918334e+01]]),\n",
       " array([-109.4301784 ,  -57.15089931,  -61.13749271, ...,   21.        ,\n",
       "         -75.        ,  -66.        ]),\n",
       " array([ -28.82250803,  -80.        ,   89.42088463,   67.        ,\n",
       "          25.        ,  -44.        ,  -69.46269683,  -78.68980878,\n",
       "         -88.52050974,  -66.36818522,   34.4399733 ,  119.        ,\n",
       "         -29.        ,  -64.74799116,  -39.        ,  -75.        ,\n",
       "        -109.7974569 ,  -56.53663938,  -87.6300223 ,  -40.45534263,\n",
       "         -81.18258381,  -11.42555386,  -23.        ,  -82.8596582 ,\n",
       "         -49.89870701,  -74.48713388,  -89.16489504,  117.6900625 ,\n",
       "         -42.24290053,  -97.72882784,  -57.        ,  121.        ,\n",
       "         -55.57029679,   75.34482182,  -18.31251762,  -27.36712757,\n",
       "          29.15065648,  -65.        ,  124.6992025 ,  -83.82733147,\n",
       "          94.63628875,  -95.37931257,  -80.02676665,  -11.25681014,\n",
       "         123.189683  ,   63.        ,  -47.        ,  -68.72581737,\n",
       "        -110.7757432 ,  -85.64976455,   29.15065648,  -81.        ,\n",
       "         -66.8321257 ,  -66.        , -102.4227774 ,  -27.39577296,\n",
       "         -95.        ,  -86.90334765,  -83.65416341,  -67.        ,\n",
       "        -116.5886395 ,   57.64738173,  115.3676033 ,  -85.2800492 ,\n",
       "        -112.1053257 ,   60.11864347,  -89.25204159,  -29.41554152,\n",
       "         -51.36506174, -102.5771501 ,  -73.79401197,  -95.01818683,\n",
       "         133.7931158 ,  -28.31035086,   24.55455007,  -80.02676665,\n",
       "         -72.97830748,  -82.79693428,  -86.        , -129.9389289 ,\n",
       "         -97.29753278,  -44.        ,   27.90016191,  -59.        ,\n",
       "         -48.69429586,  -30.95901824,  -63.        ,   41.        ,\n",
       "         128.8125154 ,  -65.22934947,  -33.        ,   83.93005242,\n",
       "         -89.25204159,  -43.66378035,  -63.        ,  -39.63824551,\n",
       "        -110.0248832 , -112.1053257 ,   11.16664314,  -12.43114176,\n",
       "          79.20662645,  -95.        ,  -72.98043377,  -47.33074374,\n",
       "          55.        ,  -36.63841721,   -6.3514386 ,  -85.        ,\n",
       "         104.7542306 , -118.7931916 ,  -39.59092256,  -51.66513308,\n",
       "         -21.48768832,  -19.53037002,  -91.        ,  -59.9087513 ,\n",
       "          69.38148907,  -44.        ,  -58.19827983,  -85.02910025,\n",
       "         -92.58017803,   41.51795546,  -51.02695614,  -36.62275691,\n",
       "         -48.39261806,  -87.88028986, -100.        ,  -13.61885699,\n",
       "         -29.91440954,  -82.87370205,  129.        ,  -62.        ,\n",
       "          41.63469698,  -21.91068855, -112.4889077 ,  -62.90479574,\n",
       "         -52.67569749,  -76.        ,  -67.        ,  -69.10412547,\n",
       "         -86.08341372,  -95.        ,  -47.06037708,  -47.6389731 ,\n",
       "          87.65325077,    8.75598497,   73.21211873,  -62.72941816,\n",
       "         -61.16785103,  -28.30600144,  -71.073095  ,  -41.93468253,\n",
       "        -104.9430524 ,  -37.65615936,  -75.9911003 ,  -51.0307231 ,\n",
       "         -50.94802619,   90.47212182,  -42.77424187,   -5.        ,\n",
       "         -76.02231946,  -73.35306605,  -18.11702917,  -41.60278387,\n",
       "         -29.50161897,  -51.17616754,  128.2496946 ,  -76.38090212,\n",
       "         -10.28008749,  -49.96637079,  -42.17763751,  -34.81406491,\n",
       "          -6.15172467,  104.        ,   91.54096348,   22.86270988,\n",
       "         -77.95105379,  -33.        ,  128.5894125 ,  -48.29808186,\n",
       "         -75.        ,  -39.        ,    4.07905264,   90.8847302 ,\n",
       "         -70.40769996, -100.        ,  -82.79693428,  -44.        ,\n",
       "          38.24941962,  -80.04480123,  -74.22261609,  -93.21104281,\n",
       "         -76.38448185,  -61.17085155,  -10.87340028,    5.15080161,\n",
       "         -79.68386802, -112.4889077 ,  -78.74335888,  -54.99794856,\n",
       "         -54.99794856,  -86.77618185,  -46.5146921 ,  -91.5814966 ,\n",
       "         -57.95329699,  -30.91793406,  -75.29712652,  -35.91711333,\n",
       "          20.76041535,  -50.06996019,  -65.45754549,  -40.        ,\n",
       "         -30.02512536,  -92.18557515,  -93.57196728,   95.91099282,\n",
       "         131.        ,  -44.89875934, -100.        ,  -96.46958507,\n",
       "        -129.7094883 ,   11.947285  ,  -92.13509303,   41.61417179,\n",
       "         -39.74783596,  -30.84830515,  -43.83048837,  -40.14590743,\n",
       "         -98.94339399,  -12.1322208 ,  132.05527   ,  -63.86663357,\n",
       "        -102.6265059 ,  -54.        ,  -93.        ,  -49.        ,\n",
       "        -127.0636111 ,  -33.        ,  -70.36698747, -104.9430524 ,\n",
       "         -19.81154525,  -75.        ,  100.4931074 ,  -51.        ,\n",
       "         -17.58402072,  -93.45598818,   22.40757901,  -78.        ,\n",
       "         -73.        ,  -68.74725621,  -86.11036171,  -71.        ,\n",
       "         -60.14806655,  -76.67718954,  -95.        ,  -52.68481864,\n",
       "         -76.12857598,  -68.39223395,  -90.4678524 , -109.9741647 ,\n",
       "         -90.        ,  -65.47228739,  -43.83048837,  -96.21628083,\n",
       "         -51.        ,   60.10208324,  -33.        ,   94.        ,\n",
       "         -99.37143457,  -46.88955057,  -82.        ,  -27.17722722,\n",
       "         106.8797057 ,  -33.18686303,  -92.58017803,  -33.        ,\n",
       "        -130.5720846 ,  -59.        ,   40.29726254,  -66.67717533,\n",
       "        -132.0322057 ,  -18.        ,  -42.58769621,  -78.        ,\n",
       "         -47.        ,  -78.94847099,  -76.38090212,   41.51795546,\n",
       "         -95.87848863,  -57.82218601,  102.        ,  -82.24312547,\n",
       "         -72.70879035,  -17.98193677,  -68.74341962,  -67.36906194,\n",
       "         -48.61858991, -118.6922959 ,   -3.        ,  -73.48791167,\n",
       "          -6.51708283,  -78.        ,  -88.86853058,  -45.        ,\n",
       "         -43.17696351,  -78.        ,  -33.3320673 ,  -56.61692526,\n",
       "          24.35604268,  -18.        ,  -87.        ,  -48.29808186,\n",
       "         -56.        ,  -95.        ,  -15.        ,   41.03634764,\n",
       "        -125.        ,  126.7503849 ,  -28.97956175, -109.9741647 ,\n",
       "        -128.8850301 ,   -3.2302456 ,  -70.73224956,  -95.        ,\n",
       "         -95.        ,   16.8266058 , -132.422167  ,  -24.05823324,\n",
       "         -63.3590412 ,  -60.        ,   89.        ,   62.41608167,\n",
       "         -73.35306605,  -43.49923691,  -31.3863487 ,  101.023864  ,\n",
       "          84.46608551,   83.        ,    5.96416377,  -74.86354732]))"
      ]
     },
     "execution_count": 160,
     "metadata": {},
     "output_type": "execute_result"
    }
   ],
   "source": [
    "X_train,X_test,y_train,y_test"
   ]
  },
  {
   "cell_type": "code",
   "execution_count": null,
   "id": "9650afa1",
   "metadata": {},
   "outputs": [],
   "source": []
  },
  {
   "cell_type": "code",
   "execution_count": 181,
   "id": "5d2f0f5a",
   "metadata": {},
   "outputs": [],
   "source": [
    "#import regression model\n",
    "from sklearn.linear_model import LinearRegression"
   ]
  },
  {
   "cell_type": "code",
   "execution_count": 182,
   "id": "ffd2d3df",
   "metadata": {},
   "outputs": [],
   "source": [
    "lr_model = LinearRegression()"
   ]
  },
  {
   "cell_type": "code",
   "execution_count": 183,
   "id": "6fcddc9f",
   "metadata": {},
   "outputs": [
    {
     "data": {
      "text/plain": [
       "LinearRegression()"
      ]
     },
     "execution_count": 183,
     "metadata": {},
     "output_type": "execute_result"
    }
   ],
   "source": [
    "lr_model.fit(X_train, y_train)"
   ]
  },
  {
   "cell_type": "code",
   "execution_count": 195,
   "id": "330e697e",
   "metadata": {
    "scrolled": true
   },
   "outputs": [
    {
     "data": {
      "text/plain": [
       "array([-4.86559021e+01, -8.48458923e+01,  2.10567928e+01,  1.01827586e+01,\n",
       "        5.90218879e+00, -7.20041827e+01, -8.39243008e+01, -4.18860790e+01,\n",
       "       -3.21973954e+01, -7.64328109e+01,  3.18003641e+00,  1.87438984e+01,\n",
       "       -6.93952079e+00, -1.28286732e+01, -5.48819032e+01, -3.77596238e+01,\n",
       "       -3.34113821e+01, -7.16289594e+01, -2.57255295e+01, -4.26566455e+01,\n",
       "       -8.64025464e+01,  7.18856792e+00, -5.22729285e+00, -3.87961044e+01,\n",
       "       -4.73575769e+01, -3.68938106e+01, -7.87059324e+00, -8.63212182e+01,\n",
       "       -5.90004653e+01, -2.06702523e+01, -1.46445465e+01,  1.87438984e+01,\n",
       "       -3.43354105e+01,  1.52938055e+01, -6.30189053e+01, -7.72616089e+01,\n",
       "       -5.97504014e-01, -4.20401936e+01, -8.62546311e+01, -8.97356986e+01,\n",
       "        2.27146614e+01, -7.86561283e+01, -3.12891548e+01, -1.56637734e+00,\n",
       "       -8.65603377e+01,  8.89858769e+00, -7.37164106e+01, -4.31227271e+01,\n",
       "       -2.93059766e+01, -8.32779035e+01, -5.97504014e-01, -8.52739492e+01,\n",
       "       -8.05113298e+01, -1.67848315e+01, -8.98347700e+01, -6.89085333e+01,\n",
       "       -3.09107120e+01, -4.56594163e+01, -1.90785806e+01, -8.27056073e+01,\n",
       "       -1.94738539e+01,  1.77035408e+01,  1.14315698e+01, -2.79181130e+01,\n",
       "       -8.52267284e+01,  4.11727791e-01, -2.00976957e+01, -3.35002667e+00,\n",
       "       -6.91822670e+01, -1.97441668e+01, -8.16508465e+01, -7.78269499e+01,\n",
       "        2.32248774e+01, -7.10014313e+01, -9.63495348e-01, -3.12891548e+01,\n",
       "       -8.41262550e+01, -2.11065065e+01, -8.61300632e+01, -8.57725289e+01,\n",
       "       -2.97900282e+01, -5.23135613e+01,  9.59948961e+00, -4.37524216e+01,\n",
       "       -1.61586148e+01, -7.70543393e+01, -8.18494933e+01,  7.61441673e+00,\n",
       "       -8.45315501e+01, -4.56039906e+01, -6.08747010e+01,  1.29041310e+01,\n",
       "       -2.00976957e+01, -5.93011374e+01, -4.41804786e+01, -7.41198410e+01,\n",
       "       -2.77549182e+01, -8.52267284e+01, -5.50098527e+00, -6.72461547e+01,\n",
       "        1.64354046e+01, -2.83423701e+01, -1.00035740e+01, -1.39963944e+01,\n",
       "        1.01827586e+01, -6.92753993e+01, -3.58597891e+00, -8.48458923e+01,\n",
       "        1.45520491e+01, -2.37151575e+01, -6.48733107e+01, -5.55382006e+01,\n",
       "       -5.53061493e+01, -6.51608134e+00, -2.53459712e+01, -7.79341914e+01,\n",
       "        1.08057722e+01, -5.23135613e+01, -1.39241882e+01, -3.58420599e+01,\n",
       "       -1.84184721e+01,  1.03734990e+01,  1.29727268e+00, -5.31310343e+01,\n",
       "       -4.78024820e+01, -2.61373533e+01, -2.74862561e+01, -6.96187054e+00,\n",
       "       -8.00509901e+00, -3.12773177e+01,  1.96000123e+01, -4.24682506e+01,\n",
       "        1.15058560e+01, -1.13027251e+01, -2.05200333e+01, -1.61274985e+01,\n",
       "       -6.01234340e+01, -2.19215153e+01, -8.31336643e+01, -4.77047077e+01,\n",
       "       -2.26172421e+01, -2.49179142e+01, -8.56326598e+01, -5.50510387e+01,\n",
       "        1.25377311e+01,  2.53847979e+00,  1.59876975e+01, -1.17806696e+01,\n",
       "       -4.99157989e+01,  3.12851937e+00, -2.41574705e+01, -1.16527947e+01,\n",
       "       -2.12973541e+01, -1.42095150e+01, -2.05122161e+01, -4.30562483e+01,\n",
       "       -7.51405670e+01,  1.96404906e+01, -1.20870042e+01, -9.06090164e-02,\n",
       "       -1.51776238e+01, -8.12833364e+01, -3.77354206e+00, -6.00414790e+01,\n",
       "       -6.83493614e+01, -7.67947299e+01, -8.40936912e+01, -2.28731492e+01,\n",
       "       -2.15386077e+00, -6.20057208e+01, -8.08562527e+01, -8.75723164e+00,\n",
       "       -5.29759899e+00,  1.48913855e+01,  2.28738595e+01,  1.24508405e+01,\n",
       "       -2.40892844e+01, -3.08700792e+00,  2.17010618e+01, -4.65057941e+01,\n",
       "       -8.39897783e+01, -5.53099602e+01,  1.33374279e+00,  1.12281890e+01,\n",
       "       -3.29928131e+01, -2.57740282e+01, -2.11065065e+01, -8.65174874e+00,\n",
       "       -1.89715968e+00, -8.30891329e+01, -1.62208670e+01, -3.37730329e+01,\n",
       "       -3.99289835e+01, -2.41066041e+01, -2.24760920e+00, -8.53071306e+00,\n",
       "       -1.95009372e+01, -2.05200333e+01, -2.41915271e+01, -6.67836475e+01,\n",
       "       -6.67836475e+01, -2.63486895e+01, -6.50345112e+01, -1.43491028e+01,\n",
       "       -4.49356116e+01, -1.66926609e+01, -1.66626032e+01, -5.91692987e+01,\n",
       "        6.29273464e+00,  4.57885445e-01, -8.22182888e+01, -1.16481476e+01,\n",
       "       -5.11087976e+01, -9.02131667e+01, -1.53739520e+01,  1.76607776e+01,\n",
       "       -8.74142342e+01, -5.87384381e+01, -8.69861772e+01, -8.39864753e+01,\n",
       "       -8.09118744e+01, -2.91219550e+00, -2.95158287e+01,  3.41456262e+00,\n",
       "       -4.34881334e+01, -6.90534307e+01, -1.90372001e+01, -5.63716407e+01,\n",
       "       -1.68155908e+01, -5.01265237e+01,  2.31917114e+01, -8.53084013e+00,\n",
       "       -1.73409887e+01, -9.93591970e+00, -2.62020852e+01, -4.80329915e+01,\n",
       "       -9.10319604e+01, -4.37117888e+00, -7.90784715e+01, -2.12973541e+01,\n",
       "       -6.64336955e+01, -3.51912819e+01,  1.51472470e+01, -7.36757778e+00,\n",
       "       -7.97111583e+01, -3.59449588e+01,  1.84523098e+00, -2.70581991e+01,\n",
       "       -3.94718517e+01, -1.95360359e+01, -2.54694372e+01, -4.03279657e+01,\n",
       "       -2.30241121e+01, -2.97579761e+01, -3.26229400e+01, -1.91883418e+01,\n",
       "       -3.37045693e+01, -3.81733544e+01, -3.02499055e+01, -9.12436463e+01,\n",
       "       -8.52739492e+01, -3.41554553e+01, -1.90372001e+01, -8.01941846e+01,\n",
       "       -1.12200907e+01,  1.05879540e+01, -5.95905301e+01,  1.53194425e+01,\n",
       "       -4.10373691e+01, -9.88580656e+00, -8.48458923e+01, -5.98548010e+01,\n",
       "        1.96033011e+01, -5.58417241e+01, -1.84184721e+01, -5.95905301e+01,\n",
       "       -8.62901560e+01, -1.03639767e+01,  8.85471846e+00, -4.58562320e+01,\n",
       "       -9.02879916e+01, -3.94312189e+00, -4.72144063e+01, -3.09107120e+01,\n",
       "       -5.65534983e+00, -1.93300692e+01, -2.28731492e+01,  1.03734990e+01,\n",
       "       -2.09599640e+01, -7.61054178e+01,  1.44633285e+01, -1.58660158e+01,\n",
       "       -2.87706038e+01, -5.63625788e+01, -3.69977107e+01, -4.91798781e+01,\n",
       "       -4.68838150e+01, -8.95068549e+01,  7.65504956e-01, -2.10490656e+01,\n",
       "        3.68880577e+00, -2.83423701e+01, -3.57570129e+01, -5.14574473e+01,\n",
       "       -7.34093163e+01, -2.62020852e+01, -5.50898209e+01, -5.24447980e+01,\n",
       "       -5.92723230e-01, -3.94312189e+00, -3.81876808e+01, -4.65057941e+01,\n",
       "       -4.58927065e+01, -2.87704271e+01, -1.80283696e+00,  7.72931073e+00,\n",
       "       -8.99825761e+01,  1.80704553e+01, -5.74747433e+00, -9.12436463e+01,\n",
       "       -8.58248046e+01,  8.28448618e+00, -4.23326921e+01, -8.65581202e+01,\n",
       "       -2.83423701e+01,  8.28898810e+00, -8.54646533e+01, -6.73666261e+01,\n",
       "       -6.87525187e+01, -4.46085356e+01,  1.27511006e+01,  2.68072026e+00,\n",
       "       -8.12833364e+01, -7.76377009e+01, -1.67292252e+01,  1.42737800e+01,\n",
       "        1.42299255e+01,  1.44633285e+01,  5.86090837e-01, -1.77015146e+01])"
      ]
     },
     "execution_count": 195,
     "metadata": {},
     "output_type": "execute_result"
    }
   ],
   "source": [
    "#prediction\n",
    "y_pred = lr_model.predict(X_test)\n",
    "y_pred"
   ]
  },
  {
   "cell_type": "code",
   "execution_count": 197,
   "id": "5a81c922",
   "metadata": {
    "scrolled": true
   },
   "outputs": [
    {
     "data": {
      "text/plain": [
       "array([[-120.0696243 ],\n",
       "       [-116.3328387 ],\n",
       "       [  46.73433139],\n",
       "       ...,\n",
       "       [  82.6333313 ],\n",
       "       [-117.3666687 ],\n",
       "       [ -23.3666687 ]])"
      ]
     },
     "execution_count": 197,
     "metadata": {},
     "output_type": "execute_result"
    }
   ],
   "source": [
    "X_train"
   ]
  },
  {
   "cell_type": "code",
   "execution_count": 193,
   "id": "864d3bff",
   "metadata": {},
   "outputs": [
    {
     "data": {
      "text/plain": [
       "[<matplotlib.lines.Line2D at 0x28b9a060b80>]"
      ]
     },
     "execution_count": 193,
     "metadata": {},
     "output_type": "execute_result"
    },
    {
     "data": {
      "image/png": "[encoded data removed]",
      "text/plain": [
       "<Figure size 432x288 with 1 Axes>"
      ]
     },
     "metadata": {
      "needs_background": "light"
     },
     "output_type": "display_data"
    }
   ],
   "source": [
    "plt.scatter(X_train, y_train,color=\"red\")\n",
    "plt.plot(X_train,lr_model.predict(X_train), color=\"blue\")"
   ]
  },
  {
   "cell_type": "code",
   "execution_count": 198,
   "id": "a932ad1e",
   "metadata": {},
   "outputs": [
    {
     "data": {
      "text/plain": [
       "[<matplotlib.lines.Line2D at 0x28b9b0f18b0>]"
      ]
     },
     "execution_count": 198,
     "metadata": {},
     "output_type": "execute_result"
    },
    {
     "data": {
      "image/png": "[encoded data removed]",
      "text/plain": [
       "<Figure size 432x288 with 1 Axes>"
      ]
     },
     "metadata": {
      "needs_background": "light"
     },
     "output_type": "display_data"
    }
   ],
   "source": [
    "plt.scatter(X_test, y_test,color=\"red\")\n",
    "plt.plot(X_test,lr_model.predict(X_test), color=\"blue\")"
   ]
  },
  {
   "cell_type": "code",
   "execution_count": 65,
   "id": "3c24edf7",
   "metadata": {},
   "outputs": [],
   "source": []
  },
  {
   "cell_type": "code",
   "execution_count": null,
   "id": "16a02869",
   "metadata": {},
   "outputs": [],
   "source": []
  }
 ],
 "metadata": {
  "kernelspec": {
   "display_name": "Python 3 (ipykernel)",
   "language": "python",
   "name": "python3"
  },
  "language_info": {
   "codemirror_mode": {
    "name": "ipython",
    "version": 3
   },
   "file_extension": ".py",
   "mimetype": "text/x-python",
   "name": "python",
   "nbconvert_exporter": "python",
   "pygments_lexer": "ipython3",
   "version": "3.9.12"
  }
 },
 "nbformat": 4,
 "nbformat_minor": 5
}
